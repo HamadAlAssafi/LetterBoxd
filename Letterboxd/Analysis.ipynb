{
 "cells": [
  {
   "cell_type": "code",
   "execution_count": 195,
   "metadata": {
    "slideshow": {
     "slide_type": "skip"
    }
   },
   "outputs": [],
   "source": [
    "import pandas as pd\n",
    "import numpy as np\n",
    "%matplotlib inline\n",
    "import matplotlib.pyplot as plt\n",
    "import seaborn as sb"
   ]
  },
  {
   "cell_type": "code",
   "execution_count": 196,
   "metadata": {
    "slideshow": {
     "slide_type": "skip"
    }
   },
   "outputs": [],
   "source": [
    "df_t = pd.read_csv('Thriller.csv')\n",
    "df_w = pd.read_csv('War.csv')\n",
    "df_s = pd.read_csv('SciFi.csv')\n",
    "df_h = pd.read_csv('Horror.csv')"
   ]
  },
  {
   "cell_type": "code",
   "execution_count": 197,
   "metadata": {
    "slideshow": {
     "slide_type": "skip"
    }
   },
   "outputs": [],
   "source": [
    "df_t['Genre'] = 'Thriller'\n",
    "df_w['Genre'] = 'War'\n",
    "df_s['Genre'] = 'SciFi'\n",
    "df_h['Genre'] = 'Horror'"
   ]
  },
  {
   "cell_type": "code",
   "execution_count": 198,
   "metadata": {
    "slideshow": {
     "slide_type": "skip"
    }
   },
   "outputs": [
    {
     "data": {
      "text/html": [
       "<div>\n",
       "<style scoped>\n",
       "    .dataframe tbody tr th:only-of-type {\n",
       "        vertical-align: middle;\n",
       "    }\n",
       "\n",
       "    .dataframe tbody tr th {\n",
       "        vertical-align: top;\n",
       "    }\n",
       "\n",
       "    .dataframe thead th {\n",
       "        text-align: right;\n",
       "    }\n",
       "</style>\n",
       "<table border=\"1\" class=\"dataframe\">\n",
       "  <thead>\n",
       "    <tr style=\"text-align: right;\">\n",
       "      <th></th>\n",
       "      <th>title</th>\n",
       "      <th>year</th>\n",
       "      <th>director</th>\n",
       "      <th>running_time</th>\n",
       "      <th>views</th>\n",
       "      <th>likes</th>\n",
       "      <th>avg_rating</th>\n",
       "      <th>half_star</th>\n",
       "      <th>one_star</th>\n",
       "      <th>one_half_star</th>\n",
       "      <th>two_star</th>\n",
       "      <th>two_half_star</th>\n",
       "      <th>three_star</th>\n",
       "      <th>three_half_star</th>\n",
       "      <th>four_star</th>\n",
       "      <th>four_half_star</th>\n",
       "      <th>five_star</th>\n",
       "      <th>Genre</th>\n",
       "    </tr>\n",
       "  </thead>\n",
       "  <tbody>\n",
       "    <tr>\n",
       "      <th>0</th>\n",
       "      <td>Parasite</td>\n",
       "      <td>2019.0</td>\n",
       "      <td>Bong Joon-ho</td>\n",
       "      <td>133</td>\n",
       "      <td>539266</td>\n",
       "      <td>283450</td>\n",
       "      <td>4.6</td>\n",
       "      <td>308</td>\n",
       "      <td>427</td>\n",
       "      <td>289</td>\n",
       "      <td>1266</td>\n",
       "      <td>1640</td>\n",
       "      <td>8667</td>\n",
       "      <td>14524</td>\n",
       "      <td>69003</td>\n",
       "      <td>90025</td>\n",
       "      <td>243931</td>\n",
       "      <td>Thriller</td>\n",
       "    </tr>\n",
       "    <tr>\n",
       "      <th>1</th>\n",
       "      <td>Psycho</td>\n",
       "      <td>1960.0</td>\n",
       "      <td>Alfred Hitchcock</td>\n",
       "      <td>109</td>\n",
       "      <td>323092</td>\n",
       "      <td>101066</td>\n",
       "      <td>4.3</td>\n",
       "      <td>85</td>\n",
       "      <td>229</td>\n",
       "      <td>167</td>\n",
       "      <td>1161</td>\n",
       "      <td>1335</td>\n",
       "      <td>10300</td>\n",
       "      <td>13792</td>\n",
       "      <td>50704</td>\n",
       "      <td>33030</td>\n",
       "      <td>63548</td>\n",
       "      <td>Thriller</td>\n",
       "    </tr>\n",
       "    <tr>\n",
       "      <th>2</th>\n",
       "      <td>Zodiac</td>\n",
       "      <td>2007.0</td>\n",
       "      <td>David Fincher</td>\n",
       "      <td>157</td>\n",
       "      <td>332010</td>\n",
       "      <td>92781</td>\n",
       "      <td>4.0</td>\n",
       "      <td>209</td>\n",
       "      <td>658</td>\n",
       "      <td>530</td>\n",
       "      <td>3354</td>\n",
       "      <td>3933</td>\n",
       "      <td>21210</td>\n",
       "      <td>29126</td>\n",
       "      <td>66992</td>\n",
       "      <td>32046</td>\n",
       "      <td>35479</td>\n",
       "      <td>Thriller</td>\n",
       "    </tr>\n",
       "    <tr>\n",
       "      <th>3</th>\n",
       "      <td>John Wick</td>\n",
       "      <td>2014.0</td>\n",
       "      <td>Chad Stahelski</td>\n",
       "      <td>101</td>\n",
       "      <td>352567</td>\n",
       "      <td>105748</td>\n",
       "      <td>3.8</td>\n",
       "      <td>532</td>\n",
       "      <td>1442</td>\n",
       "      <td>1208</td>\n",
       "      <td>5613</td>\n",
       "      <td>7382</td>\n",
       "      <td>31924</td>\n",
       "      <td>42776</td>\n",
       "      <td>76837</td>\n",
       "      <td>22639</td>\n",
       "      <td>29258</td>\n",
       "      <td>Thriller</td>\n",
       "    </tr>\n",
       "    <tr>\n",
       "      <th>4</th>\n",
       "      <td>Reservoir Dogs</td>\n",
       "      <td>1992.0</td>\n",
       "      <td>Quentin Tarantino</td>\n",
       "      <td>99</td>\n",
       "      <td>386953</td>\n",
       "      <td>125137</td>\n",
       "      <td>4.1</td>\n",
       "      <td>226</td>\n",
       "      <td>598</td>\n",
       "      <td>463</td>\n",
       "      <td>2473</td>\n",
       "      <td>2757</td>\n",
       "      <td>16449</td>\n",
       "      <td>24906</td>\n",
       "      <td>76472</td>\n",
       "      <td>44053</td>\n",
       "      <td>52923</td>\n",
       "      <td>Thriller</td>\n",
       "    </tr>\n",
       "  </tbody>\n",
       "</table>\n",
       "</div>"
      ],
      "text/plain": [
       "            title    year           director  running_time   views   likes  \\\n",
       "0        Parasite  2019.0       Bong Joon-ho           133  539266  283450   \n",
       "1          Psycho  1960.0   Alfred Hitchcock           109  323092  101066   \n",
       "2          Zodiac  2007.0      David Fincher           157  332010   92781   \n",
       "3       John Wick  2014.0     Chad Stahelski           101  352567  105748   \n",
       "4  Reservoir Dogs  1992.0  Quentin Tarantino            99  386953  125137   \n",
       "\n",
       "   avg_rating  half_star  one_star  one_half_star  two_star  two_half_star  \\\n",
       "0         4.6        308       427            289      1266           1640   \n",
       "1         4.3         85       229            167      1161           1335   \n",
       "2         4.0        209       658            530      3354           3933   \n",
       "3         3.8        532      1442           1208      5613           7382   \n",
       "4         4.1        226       598            463      2473           2757   \n",
       "\n",
       "   three_star  three_half_star  four_star  four_half_star  five_star     Genre  \n",
       "0        8667            14524      69003           90025     243931  Thriller  \n",
       "1       10300            13792      50704           33030      63548  Thriller  \n",
       "2       21210            29126      66992           32046      35479  Thriller  \n",
       "3       31924            42776      76837           22639      29258  Thriller  \n",
       "4       16449            24906      76472           44053      52923  Thriller  "
      ]
     },
     "execution_count": 198,
     "metadata": {},
     "output_type": "execute_result"
    }
   ],
   "source": [
    "df_t.head()"
   ]
  },
  {
   "cell_type": "code",
   "execution_count": 199,
   "metadata": {
    "slideshow": {
     "slide_type": "skip"
    }
   },
   "outputs": [
    {
     "data": {
      "text/html": [
       "<div>\n",
       "<style scoped>\n",
       "    .dataframe tbody tr th:only-of-type {\n",
       "        vertical-align: middle;\n",
       "    }\n",
       "\n",
       "    .dataframe tbody tr th {\n",
       "        vertical-align: top;\n",
       "    }\n",
       "\n",
       "    .dataframe thead th {\n",
       "        text-align: right;\n",
       "    }\n",
       "</style>\n",
       "<table border=\"1\" class=\"dataframe\">\n",
       "  <thead>\n",
       "    <tr style=\"text-align: right;\">\n",
       "      <th></th>\n",
       "      <th>title</th>\n",
       "      <th>year</th>\n",
       "      <th>director</th>\n",
       "      <th>running_time</th>\n",
       "      <th>views</th>\n",
       "      <th>likes</th>\n",
       "      <th>avg_rating</th>\n",
       "      <th>half_star</th>\n",
       "      <th>one_star</th>\n",
       "      <th>one_half_star</th>\n",
       "      <th>two_star</th>\n",
       "      <th>two_half_star</th>\n",
       "      <th>three_star</th>\n",
       "      <th>three_half_star</th>\n",
       "      <th>four_star</th>\n",
       "      <th>four_half_star</th>\n",
       "      <th>five_star</th>\n",
       "      <th>Genre</th>\n",
       "    </tr>\n",
       "  </thead>\n",
       "  <tbody>\n",
       "    <tr>\n",
       "      <th>0</th>\n",
       "      <td>Inglourious Basterds</td>\n",
       "      <td>2009.0</td>\n",
       "      <td>Quentin Tarantino</td>\n",
       "      <td>153</td>\n",
       "      <td>584639</td>\n",
       "      <td>218416</td>\n",
       "      <td>4.3</td>\n",
       "      <td>424</td>\n",
       "      <td>1085</td>\n",
       "      <td>668</td>\n",
       "      <td>4025</td>\n",
       "      <td>3847</td>\n",
       "      <td>24156</td>\n",
       "      <td>29023</td>\n",
       "      <td>101558</td>\n",
       "      <td>65594</td>\n",
       "      <td>113894</td>\n",
       "      <td>War</td>\n",
       "    </tr>\n",
       "    <tr>\n",
       "      <th>1</th>\n",
       "      <td>Paths of Glory</td>\n",
       "      <td>1957.0</td>\n",
       "      <td>Stanley Kubrick</td>\n",
       "      <td>88</td>\n",
       "      <td>74359</td>\n",
       "      <td>23556</td>\n",
       "      <td>4.3</td>\n",
       "      <td>15</td>\n",
       "      <td>47</td>\n",
       "      <td>48</td>\n",
       "      <td>201</td>\n",
       "      <td>322</td>\n",
       "      <td>1878</td>\n",
       "      <td>3824</td>\n",
       "      <td>13053</td>\n",
       "      <td>12624</td>\n",
       "      <td>14826</td>\n",
       "      <td>War</td>\n",
       "    </tr>\n",
       "    <tr>\n",
       "      <th>2</th>\n",
       "      <td>Fury</td>\n",
       "      <td>2014.0</td>\n",
       "      <td>David Ayer</td>\n",
       "      <td>135</td>\n",
       "      <td>145217</td>\n",
       "      <td>29977</td>\n",
       "      <td>3.6</td>\n",
       "      <td>216</td>\n",
       "      <td>577</td>\n",
       "      <td>731</td>\n",
       "      <td>3230</td>\n",
       "      <td>5035</td>\n",
       "      <td>17210</td>\n",
       "      <td>20721</td>\n",
       "      <td>24578</td>\n",
       "      <td>6229</td>\n",
       "      <td>5697</td>\n",
       "      <td>War</td>\n",
       "    </tr>\n",
       "    <tr>\n",
       "      <th>3</th>\n",
       "      <td>Gone with the Wind</td>\n",
       "      <td>1939.0</td>\n",
       "      <td>Victor Fleming,George Cukor,Sam Wood</td>\n",
       "      <td>233</td>\n",
       "      <td>90154</td>\n",
       "      <td>17558</td>\n",
       "      <td>3.9</td>\n",
       "      <td>265</td>\n",
       "      <td>536</td>\n",
       "      <td>375</td>\n",
       "      <td>1557</td>\n",
       "      <td>1531</td>\n",
       "      <td>5418</td>\n",
       "      <td>5491</td>\n",
       "      <td>11234</td>\n",
       "      <td>5659</td>\n",
       "      <td>9973</td>\n",
       "      <td>War</td>\n",
       "    </tr>\n",
       "    <tr>\n",
       "      <th>4</th>\n",
       "      <td>The Thin Red Line</td>\n",
       "      <td>1998.0</td>\n",
       "      <td>Terrence Malick</td>\n",
       "      <td>171</td>\n",
       "      <td>78597</td>\n",
       "      <td>18011</td>\n",
       "      <td>4.0</td>\n",
       "      <td>112</td>\n",
       "      <td>308</td>\n",
       "      <td>222</td>\n",
       "      <td>1183</td>\n",
       "      <td>1260</td>\n",
       "      <td>4699</td>\n",
       "      <td>5793</td>\n",
       "      <td>12125</td>\n",
       "      <td>7407</td>\n",
       "      <td>9363</td>\n",
       "      <td>War</td>\n",
       "    </tr>\n",
       "  </tbody>\n",
       "</table>\n",
       "</div>"
      ],
      "text/plain": [
       "                  title    year                              director  \\\n",
       "0  Inglourious Basterds  2009.0                     Quentin Tarantino   \n",
       "1        Paths of Glory  1957.0                       Stanley Kubrick   \n",
       "2                  Fury  2014.0                            David Ayer   \n",
       "3    Gone with the Wind  1939.0  Victor Fleming,George Cukor,Sam Wood   \n",
       "4     The Thin Red Line  1998.0                       Terrence Malick   \n",
       "\n",
       "   running_time   views   likes  avg_rating  half_star  one_star  \\\n",
       "0           153  584639  218416         4.3        424      1085   \n",
       "1            88   74359   23556         4.3         15        47   \n",
       "2           135  145217   29977         3.6        216       577   \n",
       "3           233   90154   17558         3.9        265       536   \n",
       "4           171   78597   18011         4.0        112       308   \n",
       "\n",
       "   one_half_star  two_star  two_half_star  three_star  three_half_star  \\\n",
       "0            668      4025           3847       24156            29023   \n",
       "1             48       201            322        1878             3824   \n",
       "2            731      3230           5035       17210            20721   \n",
       "3            375      1557           1531        5418             5491   \n",
       "4            222      1183           1260        4699             5793   \n",
       "\n",
       "   four_star  four_half_star  five_star Genre  \n",
       "0     101558           65594     113894   War  \n",
       "1      13053           12624      14826   War  \n",
       "2      24578            6229       5697   War  \n",
       "3      11234            5659       9973   War  \n",
       "4      12125            7407       9363   War  "
      ]
     },
     "execution_count": 199,
     "metadata": {},
     "output_type": "execute_result"
    }
   ],
   "source": [
    "df_w.head()"
   ]
  },
  {
   "cell_type": "code",
   "execution_count": 200,
   "metadata": {
    "slideshow": {
     "slide_type": "skip"
    }
   },
   "outputs": [
    {
     "data": {
      "text/html": [
       "<div>\n",
       "<style scoped>\n",
       "    .dataframe tbody tr th:only-of-type {\n",
       "        vertical-align: middle;\n",
       "    }\n",
       "\n",
       "    .dataframe tbody tr th {\n",
       "        vertical-align: top;\n",
       "    }\n",
       "\n",
       "    .dataframe thead th {\n",
       "        text-align: right;\n",
       "    }\n",
       "</style>\n",
       "<table border=\"1\" class=\"dataframe\">\n",
       "  <thead>\n",
       "    <tr style=\"text-align: right;\">\n",
       "      <th></th>\n",
       "      <th>title</th>\n",
       "      <th>year</th>\n",
       "      <th>director</th>\n",
       "      <th>running_time</th>\n",
       "      <th>views</th>\n",
       "      <th>likes</th>\n",
       "      <th>avg_rating</th>\n",
       "      <th>half_star</th>\n",
       "      <th>one_star</th>\n",
       "      <th>one_half_star</th>\n",
       "      <th>two_star</th>\n",
       "      <th>two_half_star</th>\n",
       "      <th>three_star</th>\n",
       "      <th>three_half_star</th>\n",
       "      <th>four_star</th>\n",
       "      <th>four_half_star</th>\n",
       "      <th>five_star</th>\n",
       "      <th>Genre</th>\n",
       "    </tr>\n",
       "  </thead>\n",
       "  <tbody>\n",
       "    <tr>\n",
       "      <th>0</th>\n",
       "      <td>Get Out</td>\n",
       "      <td>2017.0</td>\n",
       "      <td>Jordan Peele</td>\n",
       "      <td>104</td>\n",
       "      <td>605132</td>\n",
       "      <td>261668</td>\n",
       "      <td>4.1</td>\n",
       "      <td>647</td>\n",
       "      <td>1560</td>\n",
       "      <td>1001</td>\n",
       "      <td>5727</td>\n",
       "      <td>5821</td>\n",
       "      <td>34069</td>\n",
       "      <td>45053</td>\n",
       "      <td>136842</td>\n",
       "      <td>65726</td>\n",
       "      <td>110264</td>\n",
       "      <td>Horror</td>\n",
       "    </tr>\n",
       "    <tr>\n",
       "      <th>1</th>\n",
       "      <td>Zombieland</td>\n",
       "      <td>2009.0</td>\n",
       "      <td>Ruben Fleischer</td>\n",
       "      <td>88</td>\n",
       "      <td>339357</td>\n",
       "      <td>77110</td>\n",
       "      <td>3.6</td>\n",
       "      <td>477</td>\n",
       "      <td>1384</td>\n",
       "      <td>1353</td>\n",
       "      <td>6280</td>\n",
       "      <td>9055</td>\n",
       "      <td>37228</td>\n",
       "      <td>43168</td>\n",
       "      <td>53117</td>\n",
       "      <td>10931</td>\n",
       "      <td>11907</td>\n",
       "      <td>Horror</td>\n",
       "    </tr>\n",
       "    <tr>\n",
       "      <th>2</th>\n",
       "      <td>Suspiria</td>\n",
       "      <td>2018.0</td>\n",
       "      <td>Luca Guadagnino</td>\n",
       "      <td>152</td>\n",
       "      <td>122728</td>\n",
       "      <td>37820</td>\n",
       "      <td>3.7</td>\n",
       "      <td>611</td>\n",
       "      <td>1253</td>\n",
       "      <td>1266</td>\n",
       "      <td>4151</td>\n",
       "      <td>4844</td>\n",
       "      <td>12282</td>\n",
       "      <td>15033</td>\n",
       "      <td>25865</td>\n",
       "      <td>13732</td>\n",
       "      <td>12889</td>\n",
       "      <td>Horror</td>\n",
       "    </tr>\n",
       "    <tr>\n",
       "      <th>3</th>\n",
       "      <td>Halloween</td>\n",
       "      <td>1978.0</td>\n",
       "      <td>John Carpenter</td>\n",
       "      <td>91</td>\n",
       "      <td>212751</td>\n",
       "      <td>59124</td>\n",
       "      <td>4.0</td>\n",
       "      <td>204</td>\n",
       "      <td>700</td>\n",
       "      <td>602</td>\n",
       "      <td>3003</td>\n",
       "      <td>3627</td>\n",
       "      <td>15715</td>\n",
       "      <td>17598</td>\n",
       "      <td>35627</td>\n",
       "      <td>14882</td>\n",
       "      <td>29077</td>\n",
       "      <td>Horror</td>\n",
       "    </tr>\n",
       "    <tr>\n",
       "      <th>4</th>\n",
       "      <td>Rosemary's Baby</td>\n",
       "      <td>1968.0</td>\n",
       "      <td>Roman Polanski</td>\n",
       "      <td>137</td>\n",
       "      <td>158689</td>\n",
       "      <td>46272</td>\n",
       "      <td>4.2</td>\n",
       "      <td>156</td>\n",
       "      <td>372</td>\n",
       "      <td>253</td>\n",
       "      <td>1326</td>\n",
       "      <td>1412</td>\n",
       "      <td>6933</td>\n",
       "      <td>9562</td>\n",
       "      <td>27455</td>\n",
       "      <td>18616</td>\n",
       "      <td>24435</td>\n",
       "      <td>Horror</td>\n",
       "    </tr>\n",
       "  </tbody>\n",
       "</table>\n",
       "</div>"
      ],
      "text/plain": [
       "             title    year         director  running_time   views   likes  \\\n",
       "0          Get Out  2017.0     Jordan Peele           104  605132  261668   \n",
       "1       Zombieland  2009.0  Ruben Fleischer            88  339357   77110   \n",
       "2         Suspiria  2018.0  Luca Guadagnino           152  122728   37820   \n",
       "3        Halloween  1978.0   John Carpenter            91  212751   59124   \n",
       "4  Rosemary's Baby  1968.0   Roman Polanski           137  158689   46272   \n",
       "\n",
       "   avg_rating  half_star  one_star  one_half_star  two_star  two_half_star  \\\n",
       "0         4.1        647      1560           1001      5727           5821   \n",
       "1         3.6        477      1384           1353      6280           9055   \n",
       "2         3.7        611      1253           1266      4151           4844   \n",
       "3         4.0        204       700            602      3003           3627   \n",
       "4         4.2        156       372            253      1326           1412   \n",
       "\n",
       "   three_star  three_half_star  four_star  four_half_star  five_star   Genre  \n",
       "0       34069            45053     136842           65726     110264  Horror  \n",
       "1       37228            43168      53117           10931      11907  Horror  \n",
       "2       12282            15033      25865           13732      12889  Horror  \n",
       "3       15715            17598      35627           14882      29077  Horror  \n",
       "4        6933             9562      27455           18616      24435  Horror  "
      ]
     },
     "execution_count": 200,
     "metadata": {},
     "output_type": "execute_result"
    }
   ],
   "source": [
    "df_h.head()"
   ]
  },
  {
   "cell_type": "code",
   "execution_count": 201,
   "metadata": {
    "slideshow": {
     "slide_type": "skip"
    }
   },
   "outputs": [
    {
     "data": {
      "text/html": [
       "<div>\n",
       "<style scoped>\n",
       "    .dataframe tbody tr th:only-of-type {\n",
       "        vertical-align: middle;\n",
       "    }\n",
       "\n",
       "    .dataframe tbody tr th {\n",
       "        vertical-align: top;\n",
       "    }\n",
       "\n",
       "    .dataframe thead th {\n",
       "        text-align: right;\n",
       "    }\n",
       "</style>\n",
       "<table border=\"1\" class=\"dataframe\">\n",
       "  <thead>\n",
       "    <tr style=\"text-align: right;\">\n",
       "      <th></th>\n",
       "      <th>title</th>\n",
       "      <th>year</th>\n",
       "      <th>director</th>\n",
       "      <th>running_time</th>\n",
       "      <th>views</th>\n",
       "      <th>likes</th>\n",
       "      <th>avg_rating</th>\n",
       "      <th>half_star</th>\n",
       "      <th>one_star</th>\n",
       "      <th>one_half_star</th>\n",
       "      <th>two_star</th>\n",
       "      <th>two_half_star</th>\n",
       "      <th>three_star</th>\n",
       "      <th>three_half_star</th>\n",
       "      <th>four_star</th>\n",
       "      <th>four_half_star</th>\n",
       "      <th>five_star</th>\n",
       "      <th>Genre</th>\n",
       "    </tr>\n",
       "  </thead>\n",
       "  <tbody>\n",
       "    <tr>\n",
       "      <th>0</th>\n",
       "      <td>Spider-Man: Into the Spider-Verse</td>\n",
       "      <td>2018.0</td>\n",
       "      <td>Rodney Rothman,Peter Ramsey,Bob Persichetti</td>\n",
       "      <td>117</td>\n",
       "      <td>471056</td>\n",
       "      <td>231832</td>\n",
       "      <td>4.4</td>\n",
       "      <td>275</td>\n",
       "      <td>585</td>\n",
       "      <td>330</td>\n",
       "      <td>1923</td>\n",
       "      <td>2178</td>\n",
       "      <td>13916</td>\n",
       "      <td>22153</td>\n",
       "      <td>84260</td>\n",
       "      <td>70990</td>\n",
       "      <td>150869</td>\n",
       "      <td>SciFi</td>\n",
       "    </tr>\n",
       "    <tr>\n",
       "      <th>1</th>\n",
       "      <td>Alien</td>\n",
       "      <td>1979.0</td>\n",
       "      <td>Ridley Scott</td>\n",
       "      <td>117</td>\n",
       "      <td>379337</td>\n",
       "      <td>130733</td>\n",
       "      <td>4.3</td>\n",
       "      <td>145</td>\n",
       "      <td>442</td>\n",
       "      <td>299</td>\n",
       "      <td>1974</td>\n",
       "      <td>1961</td>\n",
       "      <td>13690</td>\n",
       "      <td>17632</td>\n",
       "      <td>60239</td>\n",
       "      <td>38044</td>\n",
       "      <td>81236</td>\n",
       "      <td>SciFi</td>\n",
       "    </tr>\n",
       "    <tr>\n",
       "      <th>2</th>\n",
       "      <td>Captain Marvel</td>\n",
       "      <td>2019.0</td>\n",
       "      <td>Ryan Fleck,Anna Boden</td>\n",
       "      <td>124</td>\n",
       "      <td>337033</td>\n",
       "      <td>77294</td>\n",
       "      <td>3.2</td>\n",
       "      <td>2696</td>\n",
       "      <td>5803</td>\n",
       "      <td>5852</td>\n",
       "      <td>22166</td>\n",
       "      <td>25424</td>\n",
       "      <td>59095</td>\n",
       "      <td>43511</td>\n",
       "      <td>42337</td>\n",
       "      <td>9313</td>\n",
       "      <td>16662</td>\n",
       "      <td>SciFi</td>\n",
       "    </tr>\n",
       "    <tr>\n",
       "      <th>3</th>\n",
       "      <td>Captain America: The Winter Soldier</td>\n",
       "      <td>2014.0</td>\n",
       "      <td>Anthony Russo,Joe Russo</td>\n",
       "      <td>136</td>\n",
       "      <td>479385</td>\n",
       "      <td>128919</td>\n",
       "      <td>3.8</td>\n",
       "      <td>803</td>\n",
       "      <td>2739</td>\n",
       "      <td>1700</td>\n",
       "      <td>10378</td>\n",
       "      <td>10092</td>\n",
       "      <td>42585</td>\n",
       "      <td>40745</td>\n",
       "      <td>77448</td>\n",
       "      <td>30175</td>\n",
       "      <td>40600</td>\n",
       "      <td>SciFi</td>\n",
       "    </tr>\n",
       "    <tr>\n",
       "      <th>4</th>\n",
       "      <td>Guardians of the Galaxy Vol. 2</td>\n",
       "      <td>2017.0</td>\n",
       "      <td>James Gunn</td>\n",
       "      <td>137</td>\n",
       "      <td>477059</td>\n",
       "      <td>131595</td>\n",
       "      <td>3.6</td>\n",
       "      <td>1031</td>\n",
       "      <td>3076</td>\n",
       "      <td>2661</td>\n",
       "      <td>14156</td>\n",
       "      <td>16423</td>\n",
       "      <td>61710</td>\n",
       "      <td>56068</td>\n",
       "      <td>79567</td>\n",
       "      <td>20530</td>\n",
       "      <td>27144</td>\n",
       "      <td>SciFi</td>\n",
       "    </tr>\n",
       "  </tbody>\n",
       "</table>\n",
       "</div>"
      ],
      "text/plain": [
       "                                 title    year  \\\n",
       "0    Spider-Man: Into the Spider-Verse  2018.0   \n",
       "1                                Alien  1979.0   \n",
       "2                       Captain Marvel  2019.0   \n",
       "3  Captain America: The Winter Soldier  2014.0   \n",
       "4       Guardians of the Galaxy Vol. 2  2017.0   \n",
       "\n",
       "                                      director  running_time   views   likes  \\\n",
       "0  Rodney Rothman,Peter Ramsey,Bob Persichetti           117  471056  231832   \n",
       "1                                 Ridley Scott           117  379337  130733   \n",
       "2                        Ryan Fleck,Anna Boden           124  337033   77294   \n",
       "3                      Anthony Russo,Joe Russo           136  479385  128919   \n",
       "4                                   James Gunn           137  477059  131595   \n",
       "\n",
       "   avg_rating  half_star  one_star  one_half_star  two_star  two_half_star  \\\n",
       "0         4.4        275       585            330      1923           2178   \n",
       "1         4.3        145       442            299      1974           1961   \n",
       "2         3.2       2696      5803           5852     22166          25424   \n",
       "3         3.8        803      2739           1700     10378          10092   \n",
       "4         3.6       1031      3076           2661     14156          16423   \n",
       "\n",
       "   three_star  three_half_star  four_star  four_half_star  five_star  Genre  \n",
       "0       13916            22153      84260           70990     150869  SciFi  \n",
       "1       13690            17632      60239           38044      81236  SciFi  \n",
       "2       59095            43511      42337            9313      16662  SciFi  \n",
       "3       42585            40745      77448           30175      40600  SciFi  \n",
       "4       61710            56068      79567           20530      27144  SciFi  "
      ]
     },
     "execution_count": 201,
     "metadata": {},
     "output_type": "execute_result"
    }
   ],
   "source": [
    "df_s.head()"
   ]
  },
  {
   "cell_type": "code",
   "execution_count": 202,
   "metadata": {
    "slideshow": {
     "slide_type": "skip"
    }
   },
   "outputs": [],
   "source": [
    "df2 = pd.concat([df_t, df_w,df_s,df_h])"
   ]
  },
  {
   "cell_type": "code",
   "execution_count": 203,
   "metadata": {
    "slideshow": {
     "slide_type": "skip"
    }
   },
   "outputs": [
    {
     "data": {
      "text/plain": [
       "(31895, 18)"
      ]
     },
     "execution_count": 203,
     "metadata": {},
     "output_type": "execute_result"
    }
   ],
   "source": [
    "df2.shape"
   ]
  },
  {
   "cell_type": "markdown",
   "metadata": {
    "slideshow": {
     "slide_type": "slide"
    }
   },
   "source": [
    "# (LetterBoxd Visualizations And Insights)\n",
    "by (Hamad Sami AlAssafi)"
   ]
  },
  {
   "cell_type": "markdown",
   "metadata": {
    "slideshow": {
     "slide_type": "slide"
    }
   },
   "source": [
    "## Investigation Overview\n",
    "**This presentation shows the most popular movie genre (based on views & rating), whether the running time affect the average rating or not, whether the people tend to watch old movies or new one, and the movie average rating for some of the most famous directors.**\n",
    "\n",
    "## Dataset Overview\n",
    "**LetterBoxd dataset containts 31895 movies from five different genre (Thriller, War, Scifi, and Horror).The dataset have been gathered (May 2020) by (MR. Andrés Hernández), the source of the data is (Kaggle) (https://www.kaggle.com/andrshernndez/letterboxd-movies). Data are already cleaned and ready to be analyzed.**"
   ]
  },
  {
   "cell_type": "markdown",
   "metadata": {
    "slideshow": {
     "slide_type": "slide"
    }
   },
   "source": [
    "## What is the most preferable genre by the directors\n"
   ]
  },
  {
   "cell_type": "code",
   "execution_count": 268,
   "metadata": {
    "slideshow": {
     "slide_type": "subslide"
    }
   },
   "outputs": [
    {
     "data": {
      "image/png": "[encoded data removed]",
      "text/plain": [
       "<Figure size 432x288 with 1 Axes>"
      ]
     },
     "metadata": {
      "needs_background": "light"
     },
     "output_type": "display_data"
    }
   ],
   "source": [
    "color = sb.color_palette()[0]\n",
    "List = ['Thriller','Horror','SciFi','War']\n",
    "sb.countplot(data = df2 , x = 'Genre', color = color, order = List);"
   ]
  },
  {
   "cell_type": "markdown",
   "metadata": {
    "slideshow": {
     "slide_type": "subslide"
    }
   },
   "source": [
    "#### The most preferable genre by the directors is (Thriller) with more than 12000 movie"
   ]
  },
  {
   "cell_type": "markdown",
   "metadata": {
    "slideshow": {
     "slide_type": "slide"
    }
   },
   "source": [
    "## What is the most preferable genre by the audience (based on average rating)\n",
    "\n"
   ]
  },
  {
   "cell_type": "code",
   "execution_count": 269,
   "metadata": {
    "slideshow": {
     "slide_type": "subslide"
    }
   },
   "outputs": [
    {
     "data": {
      "image/png": "[encoded data removed]",
      "text/plain": [
       "<Figure size 432x288 with 1 Axes>"
      ]
     },
     "metadata": {
      "needs_background": "light"
     },
     "output_type": "display_data"
    }
   ],
   "source": [
    "sb.violinplot(data = df2 , x = 'Genre', y = 'avg_rating', color = color , inner = None);"
   ]
  },
  {
   "cell_type": "markdown",
   "metadata": {
    "slideshow": {
     "slide_type": "subslide"
    }
   },
   "source": [
    "#### War genre has the highest average rating, the average rating for War genre is approximately (3.25 out of 5) "
   ]
  },
  {
   "cell_type": "markdown",
   "metadata": {
    "slideshow": {
     "slide_type": "slide"
    }
   },
   "source": [
    "## What is the most popular genre (based on average views)"
   ]
  },
  {
   "cell_type": "code",
   "execution_count": 260,
   "metadata": {
    "slideshow": {
     "slide_type": "skip"
    }
   },
   "outputs": [],
   "source": [
    "th1 = df2.query('Genre == \"Thriller\"')['views'].mean()\n",
    "war1 = df2.query('Genre == \"War\"')['views'].mean()\n",
    "horror1 = df2.query('Genre == \"Horror\"')['views'].mean()\n",
    "sci1 = df2.query('Genre == \"SciFi\"')['views'].mean()"
   ]
  },
  {
   "cell_type": "code",
   "execution_count": 267,
   "metadata": {
    "slideshow": {
     "slide_type": "subslide"
    }
   },
   "outputs": [
    {
     "name": "stdout",
     "output_type": "stream",
     "text": [
      "Thriller: 7474.0\n",
      "War:      5288.0\n",
      "Horror:   4345.0\n",
      "Sci-Fi:   12432.0\n"
     ]
    }
   ],
   "source": [
    "print(\"Thriller:\", round(th1,0))\n",
    "print(\"War:     \", round(war1,0))\n",
    "print(\"Horror:  \",round(horror1,0))\n",
    "print(\"Sci-Fi:  \",round(sci1,0))"
   ]
  },
  {
   "cell_type": "markdown",
   "metadata": {
    "slideshow": {
     "slide_type": "slide"
    }
   },
   "source": [
    "## What are the most common running time for movie (in minutes)"
   ]
  },
  {
   "cell_type": "code",
   "execution_count": 270,
   "metadata": {
    "slideshow": {
     "slide_type": "subslide"
    }
   },
   "outputs": [
    {
     "data": {
      "image/png": "[encoded data removed]",
      "text/plain": [
       "<Figure size 432x288 with 1 Axes>"
      ]
     },
     "metadata": {
      "needs_background": "light"
     },
     "output_type": "display_data"
    }
   ],
   "source": [
    "bins = [0,50,75,100,150,200]\n",
    "plt.hist(data = df2, x = 'running_time', bins = bins);\n",
    "plt.title('Counts For The Running Time');\n",
    "plt.xlabel('Running Time (per minutes)');\n",
    "plt.ylabel('Count');"
   ]
  },
  {
   "cell_type": "markdown",
   "metadata": {
    "slideshow": {
     "slide_type": "subslide"
    }
   },
   "source": [
    "#### more than (17000) movie has running time between (75-100) minute, in hours (1:15-1:40)"
   ]
  },
  {
   "cell_type": "markdown",
   "metadata": {
    "slideshow": {
     "slide_type": "slide"
    }
   },
   "source": [
    "## Does the people tend to watch old movies or new one\n"
   ]
  },
  {
   "cell_type": "code",
   "execution_count": 271,
   "metadata": {
    "slideshow": {
     "slide_type": "subslide"
    }
   },
   "outputs": [
    {
     "data": {
      "image/png": "[encoded data removed]",
      "text/plain": [
       "<Figure size 432x288 with 1 Axes>"
      ]
     },
     "metadata": {
      "needs_background": "light"
     },
     "output_type": "display_data"
    }
   ],
   "source": [
    "plt.scatter(data = df2 , x = 'views', y = 'year', alpha = 1/4);\n",
    "plt.title('Comparison Between The Views And Year Of Release');\n",
    "plt.xlabel('Views');\n",
    "plt.ylabel('Year Of Release');"
   ]
  },
  {
   "cell_type": "markdown",
   "metadata": {
    "slideshow": {
     "slide_type": "subslide"
    }
   },
   "source": [
    "#### It appears that the number of views has increased for the movies that has been released between (2000-2020), and it looks like the views increases by the years, which can be an indicator that the people become more passionate in movies by the years."
   ]
  },
  {
   "cell_type": "markdown",
   "metadata": {
    "slideshow": {
     "slide_type": "slide"
    }
   },
   "source": [
    "## Does the running time affect the average rating\n"
   ]
  },
  {
   "cell_type": "code",
   "execution_count": 272,
   "metadata": {
    "slideshow": {
     "slide_type": "subslide"
    }
   },
   "outputs": [
    {
     "data": {
      "image/png": "[encoded data removed]",
      "text/plain": [
       "<Figure size 432x288 with 2 Axes>"
      ]
     },
     "metadata": {
      "needs_background": "light"
     },
     "output_type": "display_data"
    }
   ],
   "source": [
    "plt.hist2d(data =df2 , x = 'running_time', y = 'avg_rating', cmap = 'viridis_r', cmin = 1);\n",
    "plt.colorbar();\n",
    "plt.xlabel('Running Time');\n",
    "plt.ylabel('Average Rating');\n",
    "plt.title('Comparison Between The Running Time And The Average Rating');"
   ]
  },
  {
   "cell_type": "markdown",
   "metadata": {
    "slideshow": {
     "slide_type": "subslide"
    }
   },
   "source": [
    "#### Most of the time if the movie has lesser running time it means it will have better average rating"
   ]
  },
  {
   "cell_type": "markdown",
   "metadata": {
    "slideshow": {
     "slide_type": "slide"
    }
   },
   "source": [
    "## What are the most common average rating\n"
   ]
  },
  {
   "cell_type": "code",
   "execution_count": 273,
   "metadata": {
    "slideshow": {
     "slide_type": "subslide"
    }
   },
   "outputs": [
    {
     "data": {
      "image/png": "[encoded data removed]",
      "text/plain": [
       "<Figure size 432x288 with 1 Axes>"
      ]
     },
     "metadata": {
      "needs_background": "light"
     },
     "output_type": "display_data"
    }
   ],
   "source": [
    "df2.avg_rating.plot(kind = 'hist');\n",
    "plt.xlabel('Average Rating');"
   ]
  },
  {
   "cell_type": "markdown",
   "metadata": {
    "slideshow": {
     "slide_type": "subslide"
    }
   },
   "source": [
    "#### The most common average rating is between (2.7-3 out of 5)"
   ]
  },
  {
   "cell_type": "markdown",
   "metadata": {
    "slideshow": {
     "slide_type": "slide"
    }
   },
   "source": [
    "## What is the most viewed movie in letterboxd\n",
    "\n"
   ]
  },
  {
   "cell_type": "code",
   "execution_count": 274,
   "metadata": {
    "slideshow": {
     "slide_type": "subslide"
    }
   },
   "outputs": [
    {
     "data": {
      "text/html": [
       "<div>\n",
       "<style scoped>\n",
       "    .dataframe tbody tr th:only-of-type {\n",
       "        vertical-align: middle;\n",
       "    }\n",
       "\n",
       "    .dataframe tbody tr th {\n",
       "        vertical-align: top;\n",
       "    }\n",
       "\n",
       "    .dataframe thead th {\n",
       "        text-align: right;\n",
       "    }\n",
       "</style>\n",
       "<table border=\"1\" class=\"dataframe\">\n",
       "  <thead>\n",
       "    <tr style=\"text-align: right;\">\n",
       "      <th></th>\n",
       "      <th>title</th>\n",
       "      <th>year</th>\n",
       "      <th>director</th>\n",
       "      <th>running_time</th>\n",
       "      <th>views</th>\n",
       "      <th>likes</th>\n",
       "      <th>avg_rating</th>\n",
       "      <th>half_star</th>\n",
       "      <th>one_star</th>\n",
       "      <th>one_half_star</th>\n",
       "      <th>two_star</th>\n",
       "      <th>two_half_star</th>\n",
       "      <th>three_star</th>\n",
       "      <th>three_half_star</th>\n",
       "      <th>four_star</th>\n",
       "      <th>four_half_star</th>\n",
       "      <th>five_star</th>\n",
       "      <th>Genre</th>\n",
       "    </tr>\n",
       "  </thead>\n",
       "  <tbody>\n",
       "    <tr>\n",
       "      <th>5823</th>\n",
       "      <td>Inception</td>\n",
       "      <td>2010.0</td>\n",
       "      <td>Christopher Nolan</td>\n",
       "      <td>148</td>\n",
       "      <td>719791</td>\n",
       "      <td>260768</td>\n",
       "      <td>4.2</td>\n",
       "      <td>650</td>\n",
       "      <td>1723</td>\n",
       "      <td>1122</td>\n",
       "      <td>7176</td>\n",
       "      <td>6262</td>\n",
       "      <td>36532</td>\n",
       "      <td>38146</td>\n",
       "      <td>121351</td>\n",
       "      <td>64075</td>\n",
       "      <td>128253</td>\n",
       "      <td>SciFi</td>\n",
       "    </tr>\n",
       "  </tbody>\n",
       "</table>\n",
       "</div>"
      ],
      "text/plain": [
       "          title    year           director  running_time   views   likes  \\\n",
       "5823  Inception  2010.0  Christopher Nolan           148  719791  260768   \n",
       "\n",
       "      avg_rating  half_star  one_star  one_half_star  two_star  two_half_star  \\\n",
       "5823         4.2        650      1723           1122      7176           6262   \n",
       "\n",
       "      three_star  three_half_star  four_star  four_half_star  five_star  Genre  \n",
       "5823       36532            38146     121351           64075     128253  SciFi  "
      ]
     },
     "execution_count": 274,
     "metadata": {},
     "output_type": "execute_result"
    }
   ],
   "source": [
    "df2.query('views == 719791')"
   ]
  },
  {
   "cell_type": "markdown",
   "metadata": {
    "slideshow": {
     "slide_type": "subslide"
    }
   },
   "source": [
    "#### Inception (2010) Directed by Christopher Nolan with (719791) views"
   ]
  },
  {
   "cell_type": "markdown",
   "metadata": {
    "slideshow": {
     "slide_type": "slide"
    }
   },
   "source": [
    "## What is the most liked movie in letterboxd\n",
    "\n"
   ]
  },
  {
   "cell_type": "code",
   "execution_count": 275,
   "metadata": {
    "slideshow": {
     "slide_type": "subslide"
    }
   },
   "outputs": [
    {
     "data": {
      "text/html": [
       "<div>\n",
       "<style scoped>\n",
       "    .dataframe tbody tr th:only-of-type {\n",
       "        vertical-align: middle;\n",
       "    }\n",
       "\n",
       "    .dataframe tbody tr th {\n",
       "        vertical-align: top;\n",
       "    }\n",
       "\n",
       "    .dataframe thead th {\n",
       "        text-align: right;\n",
       "    }\n",
       "</style>\n",
       "<table border=\"1\" class=\"dataframe\">\n",
       "  <thead>\n",
       "    <tr style=\"text-align: right;\">\n",
       "      <th></th>\n",
       "      <th>title</th>\n",
       "      <th>year</th>\n",
       "      <th>director</th>\n",
       "      <th>running_time</th>\n",
       "      <th>views</th>\n",
       "      <th>likes</th>\n",
       "      <th>avg_rating</th>\n",
       "      <th>half_star</th>\n",
       "      <th>one_star</th>\n",
       "      <th>one_half_star</th>\n",
       "      <th>two_star</th>\n",
       "      <th>two_half_star</th>\n",
       "      <th>three_star</th>\n",
       "      <th>three_half_star</th>\n",
       "      <th>four_star</th>\n",
       "      <th>four_half_star</th>\n",
       "      <th>five_star</th>\n",
       "      <th>Genre</th>\n",
       "    </tr>\n",
       "  </thead>\n",
       "  <tbody>\n",
       "    <tr>\n",
       "      <th>12833</th>\n",
       "      <td>Pulp Fiction</td>\n",
       "      <td>1994.0</td>\n",
       "      <td>Quentin Tarantino</td>\n",
       "      <td>154</td>\n",
       "      <td>693834</td>\n",
       "      <td>286934</td>\n",
       "      <td>4.4</td>\n",
       "      <td>642</td>\n",
       "      <td>1592</td>\n",
       "      <td>738</td>\n",
       "      <td>4727</td>\n",
       "      <td>3552</td>\n",
       "      <td>24158</td>\n",
       "      <td>24063</td>\n",
       "      <td>97896</td>\n",
       "      <td>65407</td>\n",
       "      <td>181714</td>\n",
       "      <td>Thriller</td>\n",
       "    </tr>\n",
       "  </tbody>\n",
       "</table>\n",
       "</div>"
      ],
      "text/plain": [
       "              title    year           director  running_time   views   likes  \\\n",
       "12833  Pulp Fiction  1994.0  Quentin Tarantino           154  693834  286934   \n",
       "\n",
       "       avg_rating  half_star  one_star  one_half_star  two_star  \\\n",
       "12833         4.4        642      1592            738      4727   \n",
       "\n",
       "       two_half_star  three_star  three_half_star  four_star  four_half_star  \\\n",
       "12833           3552       24158            24063      97896           65407   \n",
       "\n",
       "       five_star     Genre  \n",
       "12833     181714  Thriller  "
      ]
     },
     "execution_count": 275,
     "metadata": {},
     "output_type": "execute_result"
    }
   ],
   "source": [
    "df2.query('likes == 286934')"
   ]
  },
  {
   "cell_type": "markdown",
   "metadata": {
    "slideshow": {
     "slide_type": "subslide"
    }
   },
   "source": [
    "#### Pulp Fiction (1994) Directed by Quentin Tarantino with (286934) likes"
   ]
  },
  {
   "cell_type": "markdown",
   "metadata": {
    "slideshow": {
     "slide_type": "slide"
    }
   },
   "source": [
    "## What is the most rated movie in letterboxd\n"
   ]
  },
  {
   "cell_type": "code",
   "execution_count": 276,
   "metadata": {
    "slideshow": {
     "slide_type": "subslide"
    }
   },
   "outputs": [
    {
     "data": {
      "text/html": [
       "<div>\n",
       "<style scoped>\n",
       "    .dataframe tbody tr th:only-of-type {\n",
       "        vertical-align: middle;\n",
       "    }\n",
       "\n",
       "    .dataframe tbody tr th {\n",
       "        vertical-align: top;\n",
       "    }\n",
       "\n",
       "    .dataframe thead th {\n",
       "        text-align: right;\n",
       "    }\n",
       "</style>\n",
       "<table border=\"1\" class=\"dataframe\">\n",
       "  <thead>\n",
       "    <tr style=\"text-align: right;\">\n",
       "      <th></th>\n",
       "      <th>title</th>\n",
       "      <th>year</th>\n",
       "      <th>director</th>\n",
       "      <th>running_time</th>\n",
       "      <th>views</th>\n",
       "      <th>likes</th>\n",
       "      <th>avg_rating</th>\n",
       "      <th>half_star</th>\n",
       "      <th>one_star</th>\n",
       "      <th>one_half_star</th>\n",
       "      <th>two_star</th>\n",
       "      <th>two_half_star</th>\n",
       "      <th>three_star</th>\n",
       "      <th>three_half_star</th>\n",
       "      <th>four_star</th>\n",
       "      <th>four_half_star</th>\n",
       "      <th>five_star</th>\n",
       "      <th>Genre</th>\n",
       "    </tr>\n",
       "  </thead>\n",
       "  <tbody>\n",
       "    <tr>\n",
       "      <th>0</th>\n",
       "      <td>Parasite</td>\n",
       "      <td>2019.0</td>\n",
       "      <td>Bong Joon-ho</td>\n",
       "      <td>133</td>\n",
       "      <td>539266</td>\n",
       "      <td>283450</td>\n",
       "      <td>4.6</td>\n",
       "      <td>308</td>\n",
       "      <td>427</td>\n",
       "      <td>289</td>\n",
       "      <td>1266</td>\n",
       "      <td>1640</td>\n",
       "      <td>8667</td>\n",
       "      <td>14524</td>\n",
       "      <td>69003</td>\n",
       "      <td>90025</td>\n",
       "      <td>243931</td>\n",
       "      <td>Thriller</td>\n",
       "    </tr>\n",
       "  </tbody>\n",
       "</table>\n",
       "</div>"
      ],
      "text/plain": [
       "      title    year      director  running_time   views   likes  avg_rating  \\\n",
       "0  Parasite  2019.0  Bong Joon-ho           133  539266  283450         4.6   \n",
       "\n",
       "   half_star  one_star  one_half_star  two_star  two_half_star  three_star  \\\n",
       "0        308       427            289      1266           1640        8667   \n",
       "\n",
       "   three_half_star  four_star  four_half_star  five_star     Genre  \n",
       "0            14524      69003           90025     243931  Thriller  "
      ]
     },
     "execution_count": 276,
     "metadata": {},
     "output_type": "execute_result"
    }
   ],
   "source": [
    "df2.query('avg_rating == 4.6')"
   ]
  },
  {
   "cell_type": "markdown",
   "metadata": {
    "slideshow": {
     "slide_type": "subslide"
    }
   },
   "source": [
    "#### Parasite (2019) Directed by Bong Joon-ho with (4.6 out of 5) average rating"
   ]
  },
  {
   "cell_type": "markdown",
   "metadata": {
    "slideshow": {
     "slide_type": "slide"
    }
   },
   "source": [
    "## What is the longest movie in letterboxd\n",
    "\n"
   ]
  },
  {
   "cell_type": "code",
   "execution_count": 277,
   "metadata": {
    "slideshow": {
     "slide_type": "subslide"
    }
   },
   "outputs": [
    {
     "data": {
      "text/html": [
       "<div>\n",
       "<style scoped>\n",
       "    .dataframe tbody tr th:only-of-type {\n",
       "        vertical-align: middle;\n",
       "    }\n",
       "\n",
       "    .dataframe tbody tr th {\n",
       "        vertical-align: top;\n",
       "    }\n",
       "\n",
       "    .dataframe thead th {\n",
       "        text-align: right;\n",
       "    }\n",
       "</style>\n",
       "<table border=\"1\" class=\"dataframe\">\n",
       "  <thead>\n",
       "    <tr style=\"text-align: right;\">\n",
       "      <th></th>\n",
       "      <th>title</th>\n",
       "      <th>year</th>\n",
       "      <th>director</th>\n",
       "      <th>running_time</th>\n",
       "      <th>views</th>\n",
       "      <th>likes</th>\n",
       "      <th>avg_rating</th>\n",
       "      <th>half_star</th>\n",
       "      <th>one_star</th>\n",
       "      <th>one_half_star</th>\n",
       "      <th>two_star</th>\n",
       "      <th>two_half_star</th>\n",
       "      <th>three_star</th>\n",
       "      <th>three_half_star</th>\n",
       "      <th>four_star</th>\n",
       "      <th>four_half_star</th>\n",
       "      <th>five_star</th>\n",
       "      <th>Genre</th>\n",
       "    </tr>\n",
       "  </thead>\n",
       "  <tbody>\n",
       "    <tr>\n",
       "      <th>11946</th>\n",
       "      <td>La Flor</td>\n",
       "      <td>2018.0</td>\n",
       "      <td>Mariano Llinás</td>\n",
       "      <td>803</td>\n",
       "      <td>2091</td>\n",
       "      <td>884</td>\n",
       "      <td>4.2</td>\n",
       "      <td>6</td>\n",
       "      <td>8</td>\n",
       "      <td>11</td>\n",
       "      <td>42</td>\n",
       "      <td>45</td>\n",
       "      <td>76</td>\n",
       "      <td>140</td>\n",
       "      <td>330</td>\n",
       "      <td>283</td>\n",
       "      <td>504</td>\n",
       "      <td>Thriller</td>\n",
       "    </tr>\n",
       "  </tbody>\n",
       "</table>\n",
       "</div>"
      ],
      "text/plain": [
       "         title    year        director  running_time  views  likes  \\\n",
       "11946  La Flor  2018.0  Mariano Llinás           803   2091    884   \n",
       "\n",
       "       avg_rating  half_star  one_star  one_half_star  two_star  \\\n",
       "11946         4.2          6         8             11        42   \n",
       "\n",
       "       two_half_star  three_star  three_half_star  four_star  four_half_star  \\\n",
       "11946             45          76              140        330             283   \n",
       "\n",
       "       five_star     Genre  \n",
       "11946        504  Thriller  "
      ]
     },
     "execution_count": 277,
     "metadata": {},
     "output_type": "execute_result"
    }
   ],
   "source": [
    "df2.query('running_time == 803')"
   ]
  },
  {
   "cell_type": "markdown",
   "metadata": {
    "slideshow": {
     "slide_type": "subslide"
    }
   },
   "source": [
    "#### La Flor (2018) Directed by Mariano Llinás, the running time is (803) minute, 13 hour and 23 minute"
   ]
  },
  {
   "cell_type": "code",
   "execution_count": 215,
   "metadata": {
    "slideshow": {
     "slide_type": "skip"
    }
   },
   "outputs": [],
   "source": [
    "scor = df2.query('director == \"Martin Scorsese\"')['avg_rating'].mean()"
   ]
  },
  {
   "cell_type": "code",
   "execution_count": 216,
   "metadata": {
    "slideshow": {
     "slide_type": "skip"
    }
   },
   "outputs": [
    {
     "name": "stdout",
     "output_type": "stream",
     "text": [
      "3.66\n"
     ]
    }
   ],
   "source": [
    "scor = round(scor,2)\n",
    "print(scor)"
   ]
  },
  {
   "cell_type": "code",
   "execution_count": 217,
   "metadata": {
    "slideshow": {
     "slide_type": "skip"
    }
   },
   "outputs": [],
   "source": [
    "quentin = df2.query('director == \"Quentin Tarantino\"')['avg_rating'].mean()"
   ]
  },
  {
   "cell_type": "code",
   "execution_count": 218,
   "metadata": {
    "slideshow": {
     "slide_type": "skip"
    }
   },
   "outputs": [
    {
     "name": "stdout",
     "output_type": "stream",
     "text": [
      "4.02\n"
     ]
    }
   ],
   "source": [
    "quentin = round(quentin,2)\n",
    "print(quentin)"
   ]
  },
  {
   "cell_type": "code",
   "execution_count": 219,
   "metadata": {
    "slideshow": {
     "slide_type": "skip"
    }
   },
   "outputs": [],
   "source": [
    "chris = df2.query('director == \"Christopher Nolan\"')['avg_rating'].mean()"
   ]
  },
  {
   "cell_type": "code",
   "execution_count": 220,
   "metadata": {
    "slideshow": {
     "slide_type": "skip"
    }
   },
   "outputs": [
    {
     "name": "stdout",
     "output_type": "stream",
     "text": [
      "3.87\n"
     ]
    }
   ],
   "source": [
    "chris = round(chris,2)\n",
    "print(chris)"
   ]
  },
  {
   "cell_type": "code",
   "execution_count": 221,
   "metadata": {
    "slideshow": {
     "slide_type": "skip"
    }
   },
   "outputs": [],
   "source": [
    "david = df2.query('director == \"David Fincher\"')['avg_rating'].mean()"
   ]
  },
  {
   "cell_type": "code",
   "execution_count": 222,
   "metadata": {
    "slideshow": {
     "slide_type": "skip"
    }
   },
   "outputs": [
    {
     "name": "stdout",
     "output_type": "stream",
     "text": [
      "3.62\n"
     ]
    }
   ],
   "source": [
    "david = round(david,2)\n",
    "print(david)"
   ]
  },
  {
   "cell_type": "code",
   "execution_count": 223,
   "metadata": {
    "slideshow": {
     "slide_type": "skip"
    }
   },
   "outputs": [],
   "source": [
    "stan = df2.query('director == \"Stanley Kubrick\"')['avg_rating'].mean()"
   ]
  },
  {
   "cell_type": "code",
   "execution_count": 224,
   "metadata": {
    "slideshow": {
     "slide_type": "skip"
    }
   },
   "outputs": [
    {
     "name": "stdout",
     "output_type": "stream",
     "text": [
      "3.97\n"
     ]
    }
   ],
   "source": [
    "stan = round(stan,2)\n",
    "print(stan)"
   ]
  },
  {
   "cell_type": "code",
   "execution_count": 225,
   "metadata": {
    "slideshow": {
     "slide_type": "skip"
    }
   },
   "outputs": [],
   "source": [
    "bill = df2.query('director == \"Billy Wilder\"')['avg_rating'].mean()"
   ]
  },
  {
   "cell_type": "code",
   "execution_count": 259,
   "metadata": {
    "slideshow": {
     "slide_type": "skip"
    }
   },
   "outputs": [
    {
     "name": "stdout",
     "output_type": "stream",
     "text": [
      "3.7\n"
     ]
    }
   ],
   "source": [
    "bill = round(bill,3)\n",
    "print(bill)"
   ]
  },
  {
   "cell_type": "markdown",
   "metadata": {
    "slideshow": {
     "slide_type": "slide"
    }
   },
   "source": [
    "## What are the average movies rating for some of the most famous directors"
   ]
  },
  {
   "cell_type": "code",
   "execution_count": 279,
   "metadata": {
    "slideshow": {
     "slide_type": "subslide"
    }
   },
   "outputs": [
    {
     "name": "stdout",
     "output_type": "stream",
     "text": [
      "The average movies rating for Martin Scorsese is:    3.66\n",
      "The average movies rating for Quentin Tarantino is:  4.02\n",
      "The average movies rating for Christopher Nolan is:  3.87\n",
      "The average movies rating for David Fincher is:      3.62\n",
      "The average movies rating for Stanley Kubrick is:    3.97\n",
      "The average movies rating for Billy Wilder is:       3.7\n"
     ]
    }
   ],
   "source": [
    "print('The average movies rating for Martin Scorsese is:   ', scor)\n",
    "print('The average movies rating for Quentin Tarantino is: ', quentin)\n",
    "print('The average movies rating for Christopher Nolan is: ', chris)\n",
    "print('The average movies rating for David Fincher is:     ', david)\n",
    "print('The average movies rating for Stanley Kubrick is:   ', stan)\n",
    "print('The average movies rating for Billy Wilder is:      ', bill)"
   ]
  },
  {
   "cell_type": "markdown",
   "metadata": {
    "slideshow": {
     "slide_type": "slide"
    }
   },
   "source": [
    "# Thank You :) \n",
    "# Twitter: @HamadAlAssafi"
   ]
  }
 ],
 "metadata": {
  "celltoolbar": "Slideshow",
  "kernelspec": {
   "display_name": "Python 3",
   "language": "python",
   "name": "python3"
  },
  "language_info": {
   "codemirror_mode": {
    "name": "ipython",
    "version": 3
   },
   "file_extension": ".py",
   "mimetype": "text/x-python",
   "name": "python",
   "nbconvert_exporter": "python",
   "pygments_lexer": "ipython3",
   "version": "3.7.6"
  }
 },
 "nbformat": 4,
 "nbformat_minor": 4
}
